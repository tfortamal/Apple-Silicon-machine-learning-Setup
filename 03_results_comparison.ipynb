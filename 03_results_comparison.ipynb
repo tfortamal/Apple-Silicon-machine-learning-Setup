{
  "nbformat": 4,
  "nbformat_minor": 0,
  "metadata": {
    "colab": {
      "name": "03_results_comparison.ipynb",
      "provenance": [],
      "collapsed_sections": [],
      "authorship_tag": "ABX9TyNo+jvEsXyXKW5fdl4I5opP",
      "include_colab_link": true
    },
    "kernelspec": {
      "name": "python3",
      "display_name": "Python 3"
    },
    "language_info": {
      "name": "python"
    }
  },
  "cells": [
    {
      "cell_type": "markdown",
      "metadata": {
        "id": "view-in-github",
        "colab_type": "text"
      },
      "source": [
        "<a href=\"https://colab.research.google.com/github/mrdbourke/m1-machine-learning-test/blob/main/03_results_comparison.ipynb\" target=\"_parent\"><img src=\"https://colab.research.google.com/assets/colab-badge.svg\" alt=\"Open In Colab\"/></a>"
      ]
    },
    {
      "cell_type": "markdown",
      "metadata": {
        "id": "OHmaDe87oeb5"
      },
      "source": [
        "# Results comparison for M1, M1 Pro, M1 Max Machine Learning Speed Tests\n",
        "\n",
        "The code in this notebook compares the results for various experiments run on Apple's M1, M1 Pro and M1 Max laptops.\n",
        "\n",
        "As well as other various devices such as Google Colab (K80 GPU) and a Nvidia Titan RTX GPU.\n",
        "\n",
        "You can see all of the code the experiments on GitHub: https://github.com/mrdbourke/m1-machine-learning-test"
      ]
    },
    {
      "cell_type": "code",
      "metadata": {
        "id": "VW8SQjvwj5Rn"
      },
      "source": [
        "import numpy as np\n",
        "import pandas as pd\n",
        "import matplotlib.pyplot as plt"
      ],
      "execution_count": 9,
      "outputs": []
    },
    {
      "cell_type": "markdown",
      "metadata": {
        "id": "CGT5nm-Oo0VW"
      },
      "source": [
        "## Download results\n",
        "\n",
        "The following code will download the results folder from GitHub as a file of CSV's (if they don't already exist in the current directory)."
      ]
    },
    {
      "cell_type": "code",
      "metadata": {
        "colab": {
          "base_uri": "https://localhost:8080/"
        },
        "id": "NoVHZ4olkIQb",
        "outputId": "505a13c4-516b-4dcf-b7b9-7abc089804c5"
      },
      "source": [
        "import os\n",
        "if not os.path.exists(\"results\"):\n",
        "  \"'results' folder not found, downloading from GitHub.\"\n",
        "  !git clone https://github.com/mrdbourke/m1-machine-learning-test.git\n",
        "  !mv m1-machine-learning-test/results .\n",
        "  results_path = \"results\"\n",
        "else:\n",
        "  \"'results' folder exists, aborting the clone...\"\n",
        "  results_path = \"results\""
      ],
      "execution_count": 2,
      "outputs": [
        {
          "output_type": "stream",
          "name": "stdout",
          "text": [
            "Cloning into 'm1-machine-learning-test'...\n",
            "remote: Enumerating objects: 143, done.\u001b[K\n",
            "remote: Counting objects: 100% (143/143), done.\u001b[K\n",
            "remote: Compressing objects: 100% (105/105), done.\u001b[K\n",
            "remote: Total 143 (delta 91), reused 80 (delta 38), pack-reused 0\u001b[K\n",
            "Receiving objects: 100% (143/143), 254.42 KiB | 6.06 MiB/s, done.\n",
            "Resolving deltas: 100% (91/91), done.\n"
          ]
        }
      ]
    },
    {
      "cell_type": "markdown",
      "metadata": {
        "id": "zDO1TvmFo8N-"
      },
      "source": [
        "## Import results to DataFrame"
      ]
    },
    {
      "cell_type": "code",
      "metadata": {
        "colab": {
          "base_uri": "https://localhost:8080/",
          "height": 582
        },
        "id": "smdhpEhKkpGz",
        "outputId": "b70b92ae-a278-445d-bac7-fb4a8ed3d6b1"
      },
      "source": [
        "import pathlib\n",
        "\n",
        "results_list = pathlib.Path(results_path).glob(\"*.csv\")\n",
        "results_df_list = []\n",
        "\n",
        "for result in results_list:\n",
        "  df = pd.read_csv(result, header=0)\n",
        "  results_df_list.append(df)\n",
        "\n",
        "results_df = (pd.concat(results_df_list, \n",
        "                       axis=0, \n",
        "                       ignore_index=True)\n",
        "              .drop(\"Unnamed: 0\", axis=1)\n",
        "              .sort_values(\"model\", ascending=False))\n",
        "\n",
        "results_df"
      ],
      "execution_count": 3,
      "outputs": [
        {
          "output_type": "execute_result",
          "data": {
            "text/html": [
              "<div>\n",
              "<style scoped>\n",
              "    .dataframe tbody tr th:only-of-type {\n",
              "        vertical-align: middle;\n",
              "    }\n",
              "\n",
              "    .dataframe tbody tr th {\n",
              "        vertical-align: top;\n",
              "    }\n",
              "\n",
              "    .dataframe thead th {\n",
              "        text-align: right;\n",
              "    }\n",
              "</style>\n",
              "<table border=\"1\" class=\"dataframe\">\n",
              "  <thead>\n",
              "    <tr style=\"text-align: right;\">\n",
              "      <th></th>\n",
              "      <th>device</th>\n",
              "      <th>dataset_name</th>\n",
              "      <th>epochs</th>\n",
              "      <th>batch_size</th>\n",
              "      <th>num_train_samples</th>\n",
              "      <th>num_test_samples</th>\n",
              "      <th>total_train_time</th>\n",
              "      <th>time_per_epoch</th>\n",
              "      <th>model</th>\n",
              "    </tr>\n",
              "  </thead>\n",
              "  <tbody>\n",
              "    <tr>\n",
              "      <th>0</th>\n",
              "      <td>Apple M1 Max</td>\n",
              "      <td>cifar10</td>\n",
              "      <td>10.0</td>\n",
              "      <td>32.0</td>\n",
              "      <td>50016</td>\n",
              "      <td>10016</td>\n",
              "      <td>143.287</td>\n",
              "      <td>14.329</td>\n",
              "      <td>TinyVGG</td>\n",
              "    </tr>\n",
              "    <tr>\n",
              "      <th>11</th>\n",
              "      <td>AMD Radeon Pro 5500M 8 GB (Intel Mac)</td>\n",
              "      <td>cifar10</td>\n",
              "      <td>10.0</td>\n",
              "      <td>32.0</td>\n",
              "      <td>50016</td>\n",
              "      <td>10016</td>\n",
              "      <td>179.712</td>\n",
              "      <td>17.971</td>\n",
              "      <td>TinyVGG</td>\n",
              "    </tr>\n",
              "    <tr>\n",
              "      <th>2</th>\n",
              "      <td>TITAN RTX GPU</td>\n",
              "      <td>cifar10</td>\n",
              "      <td>10.0</td>\n",
              "      <td>32.0</td>\n",
              "      <td>50016</td>\n",
              "      <td>10016</td>\n",
              "      <td>37.092</td>\n",
              "      <td>3.709</td>\n",
              "      <td>TinyVGG</td>\n",
              "    </tr>\n",
              "    <tr>\n",
              "      <th>3</th>\n",
              "      <td>Google Colab (K80 GPU)</td>\n",
              "      <td>cifar10</td>\n",
              "      <td>10.0</td>\n",
              "      <td>32.0</td>\n",
              "      <td>50016</td>\n",
              "      <td>10016</td>\n",
              "      <td>166.911</td>\n",
              "      <td>16.691</td>\n",
              "      <td>TinyVGG</td>\n",
              "    </tr>\n",
              "    <tr>\n",
              "      <th>4</th>\n",
              "      <td>Apple M1 Pro</td>\n",
              "      <td>cifar10</td>\n",
              "      <td>10.0</td>\n",
              "      <td>32.0</td>\n",
              "      <td>50016</td>\n",
              "      <td>10016</td>\n",
              "      <td>161.169</td>\n",
              "      <td>16.117</td>\n",
              "      <td>TinyVGG</td>\n",
              "    </tr>\n",
              "    <tr>\n",
              "      <th>13</th>\n",
              "      <td>Apple M1</td>\n",
              "      <td>cifar10</td>\n",
              "      <td>10.0</td>\n",
              "      <td>32.0</td>\n",
              "      <td>50016</td>\n",
              "      <td>10016</td>\n",
              "      <td>137.266</td>\n",
              "      <td>13.727</td>\n",
              "      <td>TinyVGG</td>\n",
              "    </tr>\n",
              "    <tr>\n",
              "      <th>5</th>\n",
              "      <td>Apple M1</td>\n",
              "      <td>california_housing</td>\n",
              "      <td>NaN</td>\n",
              "      <td>NaN</td>\n",
              "      <td>16512</td>\n",
              "      <td>4128</td>\n",
              "      <td>24.099</td>\n",
              "      <td>NaN</td>\n",
              "      <td>RandomForestCV</td>\n",
              "    </tr>\n",
              "    <tr>\n",
              "      <th>15</th>\n",
              "      <td>Google Colab</td>\n",
              "      <td>california_housing</td>\n",
              "      <td>NaN</td>\n",
              "      <td>NaN</td>\n",
              "      <td>16512</td>\n",
              "      <td>4128</td>\n",
              "      <td>163.964</td>\n",
              "      <td>NaN</td>\n",
              "      <td>RandomForestCV</td>\n",
              "    </tr>\n",
              "    <tr>\n",
              "      <th>7</th>\n",
              "      <td>Intel_Mac</td>\n",
              "      <td>california_housing</td>\n",
              "      <td>NaN</td>\n",
              "      <td>NaN</td>\n",
              "      <td>16512</td>\n",
              "      <td>4128</td>\n",
              "      <td>20.424</td>\n",
              "      <td>NaN</td>\n",
              "      <td>RandomForestCV</td>\n",
              "    </tr>\n",
              "    <tr>\n",
              "      <th>14</th>\n",
              "      <td>Apple M1 Pro</td>\n",
              "      <td>california_housing</td>\n",
              "      <td>NaN</td>\n",
              "      <td>NaN</td>\n",
              "      <td>16512</td>\n",
              "      <td>4128</td>\n",
              "      <td>20.383</td>\n",
              "      <td>NaN</td>\n",
              "      <td>RandomForestCV</td>\n",
              "    </tr>\n",
              "    <tr>\n",
              "      <th>12</th>\n",
              "      <td>Apple M1 Max</td>\n",
              "      <td>california_housing</td>\n",
              "      <td>NaN</td>\n",
              "      <td>NaN</td>\n",
              "      <td>16512</td>\n",
              "      <td>4128</td>\n",
              "      <td>16.244</td>\n",
              "      <td>NaN</td>\n",
              "      <td>RandomForestCV</td>\n",
              "    </tr>\n",
              "    <tr>\n",
              "      <th>8</th>\n",
              "      <td>TITAN RTX GPU</td>\n",
              "      <td>food101</td>\n",
              "      <td>5.0</td>\n",
              "      <td>32.0</td>\n",
              "      <td>75776</td>\n",
              "      <td>25280</td>\n",
              "      <td>463.753</td>\n",
              "      <td>92.751</td>\n",
              "      <td>EfficientNetB0_feature_extract</td>\n",
              "    </tr>\n",
              "    <tr>\n",
              "      <th>10</th>\n",
              "      <td>Apple M1 Pro</td>\n",
              "      <td>food101</td>\n",
              "      <td>5.0</td>\n",
              "      <td>32.0</td>\n",
              "      <td>75776</td>\n",
              "      <td>25280</td>\n",
              "      <td>1485.993</td>\n",
              "      <td>297.199</td>\n",
              "      <td>EfficientNetB0_feature_extract</td>\n",
              "    </tr>\n",
              "    <tr>\n",
              "      <th>9</th>\n",
              "      <td>Apple M1 Max</td>\n",
              "      <td>food101</td>\n",
              "      <td>5.0</td>\n",
              "      <td>32.0</td>\n",
              "      <td>75776</td>\n",
              "      <td>25280</td>\n",
              "      <td>958.951</td>\n",
              "      <td>191.790</td>\n",
              "      <td>EfficientNetB0_feature_extract</td>\n",
              "    </tr>\n",
              "    <tr>\n",
              "      <th>1</th>\n",
              "      <td>Apple M1</td>\n",
              "      <td>food101</td>\n",
              "      <td>5.0</td>\n",
              "      <td>32.0</td>\n",
              "      <td>75776</td>\n",
              "      <td>25280</td>\n",
              "      <td>3387.391</td>\n",
              "      <td>677.478</td>\n",
              "      <td>EfficientNetB0_feature_extract</td>\n",
              "    </tr>\n",
              "    <tr>\n",
              "      <th>6</th>\n",
              "      <td>AMD Radeon Pro 5500M 8 GB (Intel Mac)</td>\n",
              "      <td>food101</td>\n",
              "      <td>5.0</td>\n",
              "      <td>32.0</td>\n",
              "      <td>75776</td>\n",
              "      <td>25280</td>\n",
              "      <td>3032.461</td>\n",
              "      <td>606.492</td>\n",
              "      <td>EfficientNetB0_feature_extract</td>\n",
              "    </tr>\n",
              "    <tr>\n",
              "      <th>16</th>\n",
              "      <td>Google Colab (K80 GPU)</td>\n",
              "      <td>food101</td>\n",
              "      <td>5.0</td>\n",
              "      <td>32.0</td>\n",
              "      <td>75776</td>\n",
              "      <td>25280</td>\n",
              "      <td>2122.140</td>\n",
              "      <td>424.428</td>\n",
              "      <td>EfficientNetB0_feature_extract</td>\n",
              "    </tr>\n",
              "  </tbody>\n",
              "</table>\n",
              "</div>"
            ],
            "text/plain": [
              "                                   device  ...                           model\n",
              "0                            Apple M1 Max  ...                         TinyVGG\n",
              "11  AMD Radeon Pro 5500M 8 GB (Intel Mac)  ...                         TinyVGG\n",
              "2                           TITAN RTX GPU  ...                         TinyVGG\n",
              "3                  Google Colab (K80 GPU)  ...                         TinyVGG\n",
              "4                            Apple M1 Pro  ...                         TinyVGG\n",
              "13                               Apple M1  ...                         TinyVGG\n",
              "5                                Apple M1  ...                  RandomForestCV\n",
              "15                           Google Colab  ...                  RandomForestCV\n",
              "7                               Intel_Mac  ...                  RandomForestCV\n",
              "14                           Apple M1 Pro  ...                  RandomForestCV\n",
              "12                           Apple M1 Max  ...                  RandomForestCV\n",
              "8                           TITAN RTX GPU  ...  EfficientNetB0_feature_extract\n",
              "10                           Apple M1 Pro  ...  EfficientNetB0_feature_extract\n",
              "9                            Apple M1 Max  ...  EfficientNetB0_feature_extract\n",
              "1                                Apple M1  ...  EfficientNetB0_feature_extract\n",
              "6   AMD Radeon Pro 5500M 8 GB (Intel Mac)  ...  EfficientNetB0_feature_extract\n",
              "16                 Google Colab (K80 GPU)  ...  EfficientNetB0_feature_extract\n",
              "\n",
              "[17 rows x 9 columns]"
            ]
          },
          "metadata": {},
          "execution_count": 3
        }
      ]
    },
    {
      "cell_type": "markdown",
      "metadata": {
        "id": "AYu-K69go_Bv"
      },
      "source": [
        "## Create helper function to plot results"
      ]
    },
    {
      "cell_type": "code",
      "metadata": {
        "id": "TthrWZNYmmcV"
      },
      "source": [
        "def plot_results(results, x_col_name, y_col_name, title, xlabel, ylabel):\n",
        "  plt.figure(figsize=(10, 7))\n",
        "  plt.bar(results[x_col_name], results[y_col_name])\n",
        "  plt.title(title, fontsize=18)\n",
        "  plt.xlabel(xlabel, fontsize=14)\n",
        "  plt.xticks(rotation=45, ha=\"right\")\n",
        "  plt.ylabel(ylabel, fontsize=14);"
      ],
      "execution_count": 24,
      "outputs": []
    },
    {
      "cell_type": "markdown",
      "metadata": {
        "id": "wyy7FgRnkUVo"
      },
      "source": [
        "## CIFAR10 with TinyVGG\n",
        "\n",
        "Results from notebook code - https://github.com/mrdbourke/m1-machine-learning-test/blob/main/00_cifar10_tinyvgg_benchmark.ipynb"
      ]
    },
    {
      "cell_type": "code",
      "metadata": {
        "colab": {
          "base_uri": "https://localhost:8080/",
          "height": 238
        },
        "id": "LUVNXNpTlZDn",
        "outputId": "d2418a7f-c57e-46a0-e4a8-407532fccec2"
      },
      "source": [
        "tinyvgg_results = results_df[results_df[\"model\"] == \"TinyVGG\"][[\"device\", \"time_per_epoch\"]].sort_values(\"time_per_epoch\")\n",
        "tinyvgg_results"
      ],
      "execution_count": 25,
      "outputs": [
        {
          "output_type": "execute_result",
          "data": {
            "text/html": [
              "<div>\n",
              "<style scoped>\n",
              "    .dataframe tbody tr th:only-of-type {\n",
              "        vertical-align: middle;\n",
              "    }\n",
              "\n",
              "    .dataframe tbody tr th {\n",
              "        vertical-align: top;\n",
              "    }\n",
              "\n",
              "    .dataframe thead th {\n",
              "        text-align: right;\n",
              "    }\n",
              "</style>\n",
              "<table border=\"1\" class=\"dataframe\">\n",
              "  <thead>\n",
              "    <tr style=\"text-align: right;\">\n",
              "      <th></th>\n",
              "      <th>device</th>\n",
              "      <th>time_per_epoch</th>\n",
              "    </tr>\n",
              "  </thead>\n",
              "  <tbody>\n",
              "    <tr>\n",
              "      <th>2</th>\n",
              "      <td>TITAN RTX GPU</td>\n",
              "      <td>3.709</td>\n",
              "    </tr>\n",
              "    <tr>\n",
              "      <th>13</th>\n",
              "      <td>Apple M1</td>\n",
              "      <td>13.727</td>\n",
              "    </tr>\n",
              "    <tr>\n",
              "      <th>0</th>\n",
              "      <td>Apple M1 Max</td>\n",
              "      <td>14.329</td>\n",
              "    </tr>\n",
              "    <tr>\n",
              "      <th>4</th>\n",
              "      <td>Apple M1 Pro</td>\n",
              "      <td>16.117</td>\n",
              "    </tr>\n",
              "    <tr>\n",
              "      <th>3</th>\n",
              "      <td>Google Colab (K80 GPU)</td>\n",
              "      <td>16.691</td>\n",
              "    </tr>\n",
              "    <tr>\n",
              "      <th>11</th>\n",
              "      <td>AMD Radeon Pro 5500M 8 GB (Intel Mac)</td>\n",
              "      <td>17.971</td>\n",
              "    </tr>\n",
              "  </tbody>\n",
              "</table>\n",
              "</div>"
            ],
            "text/plain": [
              "                                   device  time_per_epoch\n",
              "2                           TITAN RTX GPU           3.709\n",
              "13                               Apple M1          13.727\n",
              "0                            Apple M1 Max          14.329\n",
              "4                            Apple M1 Pro          16.117\n",
              "3                  Google Colab (K80 GPU)          16.691\n",
              "11  AMD Radeon Pro 5500M 8 GB (Intel Mac)          17.971"
            ]
          },
          "metadata": {},
          "execution_count": 25
        }
      ]
    },
    {
      "cell_type": "code",
      "metadata": {
        "colab": {
          "base_uri": "https://localhost:8080/",
          "height": 607
        },
        "id": "Y2mYb8GRnG9h",
        "outputId": "bd425082-a536-4b63-80d1-41083d6df408"
      },
      "source": [
        "plot_results(results=tinyvgg_results,\n",
        "             x_col_name=\"device\",\n",
        "             y_col_name=\"time_per_epoch\",\n",
        "             title=\"CIFAR10 Dataset with TinyVGG TensorFlow Model\",\n",
        "             xlabel=\"Device\",\n",
        "             ylabel=\"Time Per Epoch (seconds)\")"
      ],
      "execution_count": 26,
      "outputs": [
        {
          "output_type": "display_data",
          "data": {
            "image/png": "[encoded data removed]",
            "text/plain": [
              "<Figure size 720x504 with 1 Axes>"
            ]
          },
          "metadata": {
            "needs_background": "light"
          }
        }
      ]
    },
    {
      "cell_type": "markdown",
      "metadata": {
        "id": "KVuFUG61kYGM"
      },
      "source": [
        "## EfficientNetB0 feature extractor with Food101\n",
        "\n",
        "Results from notebook code - https://github.com/mrdbourke/m1-machine-learning-test/blob/main/01_food101_effnet_benchmark.ipynb"
      ]
    },
    {
      "cell_type": "code",
      "metadata": {
        "colab": {
          "base_uri": "https://localhost:8080/",
          "height": 238
        },
        "id": "BxNn7Gkll1s-",
        "outputId": "9f78bc52-f568-454c-9f5b-81ca77a141cc"
      },
      "source": [
        "effnetb0_results = results_df[results_df[\"model\"] == \"EfficientNetB0_feature_extract\"][[\"device\", \"time_per_epoch\"]].sort_values(\"time_per_epoch\")\n",
        "effnetb0_results"
      ],
      "execution_count": 28,
      "outputs": [
        {
          "output_type": "execute_result",
          "data": {
            "text/html": [
              "<div>\n",
              "<style scoped>\n",
              "    .dataframe tbody tr th:only-of-type {\n",
              "        vertical-align: middle;\n",
              "    }\n",
              "\n",
              "    .dataframe tbody tr th {\n",
              "        vertical-align: top;\n",
              "    }\n",
              "\n",
              "    .dataframe thead th {\n",
              "        text-align: right;\n",
              "    }\n",
              "</style>\n",
              "<table border=\"1\" class=\"dataframe\">\n",
              "  <thead>\n",
              "    <tr style=\"text-align: right;\">\n",
              "      <th></th>\n",
              "      <th>device</th>\n",
              "      <th>time_per_epoch</th>\n",
              "    </tr>\n",
              "  </thead>\n",
              "  <tbody>\n",
              "    <tr>\n",
              "      <th>8</th>\n",
              "      <td>TITAN RTX GPU</td>\n",
              "      <td>92.751</td>\n",
              "    </tr>\n",
              "    <tr>\n",
              "      <th>9</th>\n",
              "      <td>Apple M1 Max</td>\n",
              "      <td>191.790</td>\n",
              "    </tr>\n",
              "    <tr>\n",
              "      <th>10</th>\n",
              "      <td>Apple M1 Pro</td>\n",
              "      <td>297.199</td>\n",
              "    </tr>\n",
              "    <tr>\n",
              "      <th>16</th>\n",
              "      <td>Google Colab (K80 GPU)</td>\n",
              "      <td>424.428</td>\n",
              "    </tr>\n",
              "    <tr>\n",
              "      <th>6</th>\n",
              "      <td>AMD Radeon Pro 5500M 8 GB (Intel Mac)</td>\n",
              "      <td>606.492</td>\n",
              "    </tr>\n",
              "    <tr>\n",
              "      <th>1</th>\n",
              "      <td>Apple M1</td>\n",
              "      <td>677.478</td>\n",
              "    </tr>\n",
              "  </tbody>\n",
              "</table>\n",
              "</div>"
            ],
            "text/plain": [
              "                                   device  time_per_epoch\n",
              "8                           TITAN RTX GPU          92.751\n",
              "9                            Apple M1 Max         191.790\n",
              "10                           Apple M1 Pro         297.199\n",
              "16                 Google Colab (K80 GPU)         424.428\n",
              "6   AMD Radeon Pro 5500M 8 GB (Intel Mac)         606.492\n",
              "1                                Apple M1         677.478"
            ]
          },
          "metadata": {},
          "execution_count": 28
        }
      ]
    },
    {
      "cell_type": "code",
      "metadata": {
        "colab": {
          "base_uri": "https://localhost:8080/",
          "height": 607
        },
        "id": "i-R72C9ln1aE",
        "outputId": "1b2d4e2a-c2dc-420b-b0a2-1404f0fbcdd6"
      },
      "source": [
        "plot_results(results=effnetb0_results,\n",
        "             x_col_name=\"device\",\n",
        "             y_col_name=\"time_per_epoch\",\n",
        "             title=\"Food101 Dataset with EfficientNetB0 Feature Extractor TensorFlow Model\",\n",
        "             xlabel=\"Device\",\n",
        "             ylabel=\"Time Per Epoch (seconds)\")"
      ],
      "execution_count": 29,
      "outputs": [
        {
          "output_type": "display_data",
          "data": {
            "image/png": "[encoded data removed]",
            "text/plain": [
              "<Figure size 720x504 with 1 Axes>"
            ]
          },
          "metadata": {
            "needs_background": "light"
          }
        }
      ]
    },
    {
      "cell_type": "markdown",
      "metadata": {
        "id": "XvqUbZapl8Nj"
      },
      "source": [
        "## RandomForestClassifier Cross-validation with California Housing Dataset\n",
        "\n",
        "Results from notebook code - https://github.com/mrdbourke/m1-machine-learning-test/blob/main/02_random_forest_benchmark.ipynb "
      ]
    },
    {
      "cell_type": "code",
      "metadata": {
        "colab": {
          "base_uri": "https://localhost:8080/",
          "height": 206
        },
        "id": "7pe1DmZdkmZS",
        "outputId": "dac870bf-1e30-45ad-d08c-157ea5aa8184"
      },
      "source": [
        "random_forest_results = results_df[results_df[\"model\"] == \"RandomForestCV\"][[\"device\", \"total_train_time\"]].sort_values(\"total_train_time\")\n",
        "random_forest_results"
      ],
      "execution_count": 11,
      "outputs": [
        {
          "output_type": "execute_result",
          "data": {
            "text/html": [
              "<div>\n",
              "<style scoped>\n",
              "    .dataframe tbody tr th:only-of-type {\n",
              "        vertical-align: middle;\n",
              "    }\n",
              "\n",
              "    .dataframe tbody tr th {\n",
              "        vertical-align: top;\n",
              "    }\n",
              "\n",
              "    .dataframe thead th {\n",
              "        text-align: right;\n",
              "    }\n",
              "</style>\n",
              "<table border=\"1\" class=\"dataframe\">\n",
              "  <thead>\n",
              "    <tr style=\"text-align: right;\">\n",
              "      <th></th>\n",
              "      <th>device</th>\n",
              "      <th>total_train_time</th>\n",
              "    </tr>\n",
              "  </thead>\n",
              "  <tbody>\n",
              "    <tr>\n",
              "      <th>12</th>\n",
              "      <td>Apple M1 Max</td>\n",
              "      <td>16.244</td>\n",
              "    </tr>\n",
              "    <tr>\n",
              "      <th>14</th>\n",
              "      <td>Apple M1 Pro</td>\n",
              "      <td>20.383</td>\n",
              "    </tr>\n",
              "    <tr>\n",
              "      <th>7</th>\n",
              "      <td>Intel_Mac</td>\n",
              "      <td>20.424</td>\n",
              "    </tr>\n",
              "    <tr>\n",
              "      <th>5</th>\n",
              "      <td>Apple M1</td>\n",
              "      <td>24.099</td>\n",
              "    </tr>\n",
              "    <tr>\n",
              "      <th>15</th>\n",
              "      <td>Google Colab</td>\n",
              "      <td>163.964</td>\n",
              "    </tr>\n",
              "  </tbody>\n",
              "</table>\n",
              "</div>"
            ],
            "text/plain": [
              "          device  total_train_time\n",
              "12  Apple M1 Max            16.244\n",
              "14  Apple M1 Pro            20.383\n",
              "7      Intel_Mac            20.424\n",
              "5       Apple M1            24.099\n",
              "15  Google Colab           163.964"
            ]
          },
          "metadata": {},
          "execution_count": 11
        }
      ]
    },
    {
      "cell_type": "code",
      "metadata": {
        "colab": {
          "base_uri": "https://localhost:8080/",
          "height": 513
        },
        "id": "hC2NfKh4oNoS",
        "outputId": "5d12ac9f-f1db-43aa-80dc-dc685f62bbc9"
      },
      "source": [
        "plot_results(results=random_forest_results,\n",
        "             x_col_name=\"device\",\n",
        "             y_col_name=\"total_train_time\",\n",
        "             title=\"RandomForestClassifier Cross-validation with California Housing Dataset\",\n",
        "             xlabel=\"Device\",\n",
        "             ylabel=\"Total Train Time (seconds)\")"
      ],
      "execution_count": 30,
      "outputs": [
        {
          "output_type": "display_data",
          "data": {
            "image/png": "[encoded data removed]",
            "text/plain": [
              "<Figure size 720x504 with 1 Axes>"
            ]
          },
          "metadata": {
            "needs_background": "light"
          }
        }
      ]
    }
  ]
}