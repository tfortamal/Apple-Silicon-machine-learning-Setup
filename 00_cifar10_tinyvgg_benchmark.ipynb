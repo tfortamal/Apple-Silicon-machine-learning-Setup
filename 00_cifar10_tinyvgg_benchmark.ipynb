{
  "nbformat": 4,
  "nbformat_minor": 5,
  "metadata": {
    "accelerator": "GPU",
    "colab": {
      "name": "00_cifar10_tinyvgg_benchmark.ipynb",
      "provenance": [],
      "collapsed_sections": [],
      "include_colab_link": true
    },
    "kernelspec": {
      "display_name": "Python 3 (ipykernel)",
      "language": "python",
      "name": "python3"
    },
    "language_info": {
      "codemirror_mode": {
        "name": "ipython",
        "version": 3
      },
      "file_extension": ".py",
      "mimetype": "text/x-python",
      "name": "python",
      "nbconvert_exporter": "python",
      "pygments_lexer": "ipython3",
      "version": "3.9.7"
    }
  },
  "cells": [
    {
      "cell_type": "markdown",
      "metadata": {
        "id": "view-in-github",
        "colab_type": "text"
      },
      "source": [
        "<a href=\"https://colab.research.google.com/github/mrdbourke/m1-machine-learning-test/blob/main/00_cifar10_tinyvgg_benchmark.ipynb\" target=\"_parent\"><img src=\"https://colab.research.google.com/assets/colab-badge.svg\" alt=\"Open In Colab\"/></a>"
      ]
    },
    {
      "cell_type": "markdown",
      "metadata": {
        "id": "5TSbi6c74A6E"
      },
      "source": [
        "# CIFAR10 TinyVGG Benchmark\n",
        "\n",
        "The following notebook tests the speed at which a given device can perform training iterations on the [CIFAR10 dataset](https://www.tensorflow.org/api_docs/python/tf/keras/datasets/cifar10/load_data) (10 classes, 50,000 training images, 10,000 testing images) training the TinyVGG architecture as a base.\n",
        "\n",
        "It's designed to be a simple test to compare Apple's M1 (normal, Pro, Max) to each other and other sources of compute.\n",
        "\n",
        "| Model | Dataset | Train Size | Test Size |\n",
        "| ----- | ----- | ----- | ----- |\n",
        "| [TinyVGG](https://poloclub.github.io/cnn-explainer/) (trained from scratch) | CIFAR10 (from TensorFlow Datasets) | ~50,000 (32x32x3) images | ~10,000 (32x32x3) images|\n",
        "\n",
        "## Resources\n",
        "* Code on GitHub: https://github.com/mrdbourke/m1-machine-learning-test\n",
        "* Code in this notebook adapted from: https://dev.mrdbourke.com/tensorflow-deep-learning/03_convolutional_neural_networks_in_tensorflow/"
      ],
      "id": "5TSbi6c74A6E"
    },
    {
      "cell_type": "markdown",
      "metadata": {
        "id": "06JiS98-5DvF"
      },
      "source": [
        "## Check for GPU\n",
        "\n",
        "If you're using Google Colab, you'll need to activate a GPU:\n",
        "1. Go to \"Runtime\"\n",
        "2. Go to \"Change Runtime Type\"\n",
        "3. Select \"GPU\"\n",
        "4. Click \"Save\" (this will restart the runtime)\n",
        "\n",
        "If you're using a Mac with an M1 chip, the GPU should already be selected if you've installed TensorFlow correctly."
      ],
      "id": "06JiS98-5DvF"
    },
    {
      "cell_type": "code",
      "metadata": {
        "colab": {
          "base_uri": "https://localhost:8080/"
        },
        "id": "LbLhLej4JbQE",
        "outputId": "96c253b3-fb77-4abe-c06d-a616aef387f5"
      },
      "source": [
        "# This will error if not using a Nvidia GPU (only works on Colab)\n",
        "!nvidia-smi"
      ],
      "id": "LbLhLej4JbQE",
      "execution_count": 1,
      "outputs": [
        {
          "output_type": "stream",
          "name": "stdout",
          "text": [
            "Mon Nov 15 00:23:58 2021       \n",
            "+-----------------------------------------------------------------------------+\n",
            "| NVIDIA-SMI 495.44       Driver Version: 460.32.03    CUDA Version: 11.2     |\n",
            "|-------------------------------+----------------------+----------------------+\n",
            "| GPU  Name        Persistence-M| Bus-Id        Disp.A | Volatile Uncorr. ECC |\n",
            "| Fan  Temp  Perf  Pwr:Usage/Cap|         Memory-Usage | GPU-Util  Compute M. |\n",
            "|                               |                      |               MIG M. |\n",
            "|===============================+======================+======================|\n",
            "|   0  Tesla K80           Off  | 00000000:00:04.0 Off |                    0 |\n",
            "| N/A   47C    P0    65W / 149W |      0MiB / 11441MiB |      0%      Default |\n",
            "|                               |                      |                  N/A |\n",
            "+-------------------------------+----------------------+----------------------+\n",
            "                                                                               \n",
            "+-----------------------------------------------------------------------------+\n",
            "| Processes:                                                                  |\n",
            "|  GPU   GI   CI        PID   Type   Process name                  GPU Memory |\n",
            "|        ID   ID                                                   Usage      |\n",
            "|=============================================================================|\n",
            "|  No running processes found                                                 |\n",
            "+-----------------------------------------------------------------------------+\n"
          ]
        }
      ]
    },
    {
      "cell_type": "code",
      "metadata": {
        "colab": {
          "base_uri": "https://localhost:8080/"
        },
        "id": "3bHGp6bH5OCm",
        "outputId": "71c42d9d-86f1-4748-fd23-71291ac55259"
      },
      "source": [
        "# Check for GPU using TensorFlow\n",
        "import tensorflow as tf\n",
        "tf.config.list_physical_devices()"
      ],
      "id": "3bHGp6bH5OCm",
      "execution_count": 2,
      "outputs": [
        {
          "output_type": "execute_result",
          "data": {
            "text/plain": [
              "[PhysicalDevice(name='/physical_device:CPU:0', device_type='CPU'),\n",
              " PhysicalDevice(name='/physical_device:GPU:0', device_type='GPU')]"
            ]
          },
          "metadata": {},
          "execution_count": 2
        }
      ]
    },
    {
      "cell_type": "markdown",
      "metadata": {
        "id": "cQ4yT7yE6heC"
      },
      "source": [
        "## Setup hyperparameters\n",
        "\n",
        "Change these to suit your needs.\n",
        "\n",
        "The main one will be the device you're running code on.\n",
        "\n",
        "E.g. `DEVICE = \"Google Colab (K80 GPU)\"` if using Google Colab."
      ],
      "id": "cQ4yT7yE6heC"
    },
    {
      "cell_type": "code",
      "metadata": {
        "id": "L8nDFuw_6tCE"
      },
      "source": [
        "# Setup hyperparameters\n",
        "BATCH_SIZE = 32 # good for your health: https://twitter.com/ylecun/status/989610208497360896\n",
        "EPOCHS = 10 # only run for a short period of time... we don't have all day\n",
        "DATASET_NAME = \"cifar10\" # change this to try other image datasets from TensorFlow Datasets\n",
        "DEVICE = \"Google Colab (K80 GPU)\" # change this depending on where you're runing the code"
      ],
      "id": "L8nDFuw_6tCE",
      "execution_count": 3,
      "outputs": []
    },
    {
      "cell_type": "markdown",
      "metadata": {
        "id": "fc0MfFZU5HhS"
      },
      "source": [
        "## Get helper functions and import dependencies\n",
        "\n",
        "The function below downloads the helper functions if necessary (if running this notebook in Google Colab, it's easier to download a single file than clone the whole repo)."
      ],
      "id": "fc0MfFZU5HhS"
    },
    {
      "cell_type": "code",
      "metadata": {
        "colab": {
          "base_uri": "https://localhost:8080/"
        },
        "id": "UBY_EONu5HQk",
        "outputId": "cf5504aa-2afc-497a-af66-a9e88d98f747"
      },
      "source": [
        "# Get helper functions\n",
        "import os\n",
        "import requests\n",
        "\n",
        "if not os.path.exists(\"helper_functions.py\"):\n",
        "  print(\"Downloading helper functions...\")\n",
        "  r = requests.get(\"https://raw.githubusercontent.com/mrdbourke/m1-machine-learning-test/main/helper_functions.py\")\n",
        "  print(\"Writing helper functions to file...\")\n",
        "  open(\"helper_functions.py\", \"wb\").write(r.content)\n",
        "else:\n",
        "  print(\"Helper functions already downloaded, skipping redownload.\")"
      ],
      "id": "UBY_EONu5HQk",
      "execution_count": 4,
      "outputs": [
        {
          "output_type": "stream",
          "name": "stdout",
          "text": [
            "Helper functions already downloaded, skipping redownload.\n"
          ]
        }
      ]
    },
    {
      "cell_type": "code",
      "metadata": {
        "id": "b8f23a80",
        "colab": {
          "base_uri": "https://localhost:8080/"
        },
        "outputId": "68ecf66a-e18f-475b-b389-4283bd45b861"
      },
      "source": [
        "# Check TensorFlow version\n",
        "import tensorflow as tf\n",
        "print(tf.__version__) # should be 2.5.0+\n",
        "\n",
        "# Get TensorFlow Datasets\n",
        "import tensorflow_datasets as tfds\n",
        "\n",
        "# Get data science libraries\n",
        "import pandas as pd\n",
        "import numpy as np\n",
        "import matplotlib.pyplot as plt\n",
        "\n",
        "from tensorflow.keras import layers\n",
        "from timeit import default_timer as timer \n",
        "from helper_functions import print_train_time"
      ],
      "id": "b8f23a80",
      "execution_count": 5,
      "outputs": [
        {
          "output_type": "stream",
          "name": "stdout",
          "text": [
            "2.7.0\n"
          ]
        }
      ]
    },
    {
      "cell_type": "markdown",
      "metadata": {
        "id": "2425d422"
      },
      "source": [
        "## Get data from TensorFlow Keras Datasets\n",
        "\n",
        "Let's download the data and inspect it. "
      ],
      "id": "2425d422"
    },
    {
      "cell_type": "code",
      "metadata": {
        "id": "d1dcec42"
      },
      "source": [
        "# Get data from tf.keras.datasets\n",
        "(train_images, train_labels), (test_images, test_labels) = tf.keras.datasets.cifar10.load_data()\n",
        "\n",
        "# Normalize pixel values to be between 0 and 1\n",
        "train_images, test_images = train_images / 255.0, test_images / 255.0"
      ],
      "id": "d1dcec42",
      "execution_count": 6,
      "outputs": []
    },
    {
      "cell_type": "code",
      "metadata": {
        "id": "ea3b59dd"
      },
      "source": [
        "class_names = ['airplane', 'automobile', 'bird', 'cat', 'deer',\n",
        "               'dog', 'frog', 'horse', 'ship', 'truck']"
      ],
      "id": "ea3b59dd",
      "execution_count": 7,
      "outputs": []
    },
    {
      "cell_type": "code",
      "metadata": {
        "colab": {
          "base_uri": "https://localhost:8080/",
          "height": 367
        },
        "id": "db015720",
        "outputId": "d4e8157f-0f92-434e-d379-94150bf12585"
      },
      "source": [
        "# Inspect image\n",
        "image = train_images[0]\n",
        "label = int(train_labels[0])\n",
        "\n",
        "print(f\"\"\"\n",
        "  Image shape: {image.shape}\n",
        "  Image dtype: {image.dtype}\n",
        "  Target class from Food101: {label}\n",
        "  Class name (str form): {class_names[label]}\n",
        "        \"\"\")\n",
        "plt.imshow(image)\n",
        "plt.title(class_names[label])\n",
        "plt.axis(False);"
      ],
      "id": "db015720",
      "execution_count": 8,
      "outputs": [
        {
          "output_type": "stream",
          "name": "stdout",
          "text": [
            "\n",
            "  Image shape: (32, 32, 3)\n",
            "  Image dtype: float64\n",
            "  Target class from Food101: 6\n",
            "  Class name (str form): frog\n",
            "        \n"
          ]
        },
        {
          "output_type": "display_data",
          "data": {
            "image/png": "[encoded data removed]",
            "text/plain": [
              "<Figure size 432x288 with 1 Axes>"
            ]
          },
          "metadata": {
            "needs_background": "light"
          }
        }
      ]
    },
    {
      "cell_type": "markdown",
      "metadata": {
        "id": "uif5hgCa5tpp"
      },
      "source": [
        "## Prepare data\n",
        "\n",
        "The data looks good. But before we model it, we're going to prepare it to run as fast as possible using [TensorFlow data loading best practices](https://www.tensorflow.org/guide/data_performance)."
      ],
      "id": "uif5hgCa5tpp"
    },
    {
      "cell_type": "code",
      "metadata": {
        "id": "3c862c1e",
        "colab": {
          "base_uri": "https://localhost:8080/"
        },
        "outputId": "2ad14326-e58d-4fea-9e37-04a8c3761495"
      },
      "source": [
        "# Create datasets \n",
        "train_data = tf.data.Dataset.from_tensor_slices((train_images, train_labels))\n",
        "test_data = tf.data.Dataset.from_tensor_slices((test_images, test_labels))\n",
        "\n",
        "# Make datasets faster\n",
        "train_data = train_data.batch(BATCH_SIZE).prefetch(tf.data.AUTOTUNE)\n",
        "test_data = test_data.batch(BATCH_SIZE).prefetch(tf.data.AUTOTUNE)\n",
        "\n",
        "train_data, test_data, len(train_data), len(test_data)"
      ],
      "id": "3c862c1e",
      "execution_count": 9,
      "outputs": [
        {
          "output_type": "execute_result",
          "data": {
            "text/plain": [
              "(<PrefetchDataset shapes: ((None, 32, 32, 3), (None, 1)), types: (tf.float64, tf.uint8)>,\n",
              " <PrefetchDataset shapes: ((None, 32, 32, 3), (None, 1)), types: (tf.float64, tf.uint8)>,\n",
              " 1563,\n",
              " 313)"
            ]
          },
          "metadata": {},
          "execution_count": 9
        }
      ]
    },
    {
      "cell_type": "markdown",
      "metadata": {
        "id": "25d58b30"
      },
      "source": [
        "## Setup and fit model\n",
        "\n",
        "To keep things simple, we're going to use the TinyVGG architecture from the [CNN explainer website](https://poloclub.github.io/cnn-explainer/)."
      ],
      "id": "25d58b30"
    },
    {
      "cell_type": "code",
      "metadata": {
        "colab": {
          "base_uri": "https://localhost:8080/"
        },
        "id": "7938027f",
        "outputId": "87e95c58-acb6-46ad-a2c7-e373daf25add"
      },
      "source": [
        "# Set random seed\n",
        "tf.random.set_seed(42)\n",
        "\n",
        "# Start time\n",
        "start_time = timer()\n",
        "\n",
        "# Create a CNN model (same as Tiny VGG - https://poloclub.github.io/cnn-explainer/)\n",
        "model = tf.keras.models.Sequential([\n",
        "  tf.keras.layers.Conv2D(filters=10, \n",
        "                         kernel_size=3, # can also be (3, 3)\n",
        "                         activation=\"relu\", \n",
        "                         input_shape=(32, 32, 3)), # first layer specifies input shape (height, width, colour channels)\n",
        "  tf.keras.layers.Conv2D(10, 3, activation=\"relu\"),\n",
        "  tf.keras.layers.MaxPool2D(pool_size=2, # pool_size can also be (2, 2)\n",
        "                            padding=\"valid\"), # padding can also be 'same'\n",
        "  tf.keras.layers.Conv2D(10, 3, activation=\"relu\"),\n",
        "  tf.keras.layers.Conv2D(10, 3, activation=\"relu\"), # activation='relu' == tf.keras.layers.Activations(tf.nn.relu)\n",
        "  tf.keras.layers.MaxPool2D(2),\n",
        "  tf.keras.layers.Flatten(),\n",
        "  tf.keras.layers.Dense(10, activation=\"softmax\") # multi-class activation output\n",
        "], name=\"TinyVGG\")\n",
        "\n",
        "# Compile the model\n",
        "model.compile(loss=\"sparse_categorical_crossentropy\", # since labels aren't one-hot, use sparse_categorical_crossentropy\n",
        "              optimizer=tf.keras.optimizers.Adam(),\n",
        "              metrics=[\"accuracy\"])\n",
        "\n",
        "# Fit model \n",
        "history = model.fit(train_data,\n",
        "                    epochs=EPOCHS,\n",
        "                    steps_per_epoch=len(train_data),\n",
        "                    validation_data=test_data,\n",
        "                    validation_steps=len(test_data))\n",
        "\n",
        "# Track time \n",
        "end_time = timer()\n",
        "train_time = print_train_time(start_time, \n",
        "                              end_time, \n",
        "                              device=DEVICE)"
      ],
      "id": "7938027f",
      "execution_count": 10,
      "outputs": [
        {
          "output_type": "stream",
          "name": "stdout",
          "text": [
            "Epoch 1/10\n",
            "1563/1563 [==============================] - 17s 7ms/step - loss: 1.7134 - accuracy: 0.3780 - val_loss: 1.5412 - val_accuracy: 0.4528\n",
            "Epoch 2/10\n",
            "1563/1563 [==============================] - 10s 7ms/step - loss: 1.4335 - accuracy: 0.4883 - val_loss: 1.4051 - val_accuracy: 0.5016\n",
            "Epoch 3/10\n",
            "1563/1563 [==============================] - 12s 8ms/step - loss: 1.3289 - accuracy: 0.5282 - val_loss: 1.2800 - val_accuracy: 0.5406\n",
            "Epoch 4/10\n",
            "1563/1563 [==============================] - 12s 8ms/step - loss: 1.2496 - accuracy: 0.5575 - val_loss: 1.2405 - val_accuracy: 0.5590\n",
            "Epoch 5/10\n",
            "1563/1563 [==============================] - 11s 7ms/step - loss: 1.1967 - accuracy: 0.5764 - val_loss: 1.2138 - val_accuracy: 0.5705\n",
            "Epoch 6/10\n",
            "1563/1563 [==============================] - 14s 9ms/step - loss: 1.1566 - accuracy: 0.5905 - val_loss: 1.1849 - val_accuracy: 0.5810\n",
            "Epoch 7/10\n",
            "1563/1563 [==============================] - 13s 8ms/step - loss: 1.1246 - accuracy: 0.6025 - val_loss: 1.1616 - val_accuracy: 0.5893\n",
            "Epoch 8/10\n",
            "1563/1563 [==============================] - 13s 8ms/step - loss: 1.0975 - accuracy: 0.6130 - val_loss: 1.1231 - val_accuracy: 0.6066\n",
            "Epoch 9/10\n",
            "1563/1563 [==============================] - 14s 9ms/step - loss: 1.0766 - accuracy: 0.6206 - val_loss: 1.1160 - val_accuracy: 0.6067\n",
            "Epoch 10/10\n",
            "1563/1563 [==============================] - 14s 9ms/step - loss: 1.0596 - accuracy: 0.6271 - val_loss: 1.1083 - val_accuracy: 0.6095\n",
            "\n",
            "Train time on Google Colab (K80 GPU): 166.911 seconds\n"
          ]
        }
      ]
    },
    {
      "cell_type": "markdown",
      "metadata": {
        "id": "qymGk8mw6VaD"
      },
      "source": [
        "## Track results and save to file"
      ],
      "id": "qymGk8mw6VaD"
    },
    {
      "cell_type": "code",
      "metadata": {
        "colab": {
          "base_uri": "https://localhost:8080/",
          "height": 81
        },
        "id": "cferSb088tne",
        "outputId": "d88d79a3-6079-485f-ad98-bca241cf5359"
      },
      "source": [
        "results = {\n",
        "    \"device\": DEVICE,\n",
        "    \"dataset_name\": DATASET_NAME,\n",
        "    \"epochs\": EPOCHS,\n",
        "    \"batch_size\": BATCH_SIZE,\n",
        "    \"num_train_samples\": len(train_data)*BATCH_SIZE,\n",
        "    \"num_test_samples\": len(test_data)*BATCH_SIZE,\n",
        "    \"total_train_time\": round(train_time, 3),\n",
        "    \"time_per_epoch\": round(train_time/EPOCHS, 3),\n",
        "    \"model\": model.name\n",
        "    }\n",
        "results_df = pd.DataFrame(results, index=[0])\n",
        "results_df"
      ],
      "id": "cferSb088tne",
      "execution_count": 11,
      "outputs": [
        {
          "output_type": "execute_result",
          "data": {
            "text/html": [
              "<div>\n",
              "<style scoped>\n",
              "    .dataframe tbody tr th:only-of-type {\n",
              "        vertical-align: middle;\n",
              "    }\n",
              "\n",
              "    .dataframe tbody tr th {\n",
              "        vertical-align: top;\n",
              "    }\n",
              "\n",
              "    .dataframe thead th {\n",
              "        text-align: right;\n",
              "    }\n",
              "</style>\n",
              "<table border=\"1\" class=\"dataframe\">\n",
              "  <thead>\n",
              "    <tr style=\"text-align: right;\">\n",
              "      <th></th>\n",
              "      <th>device</th>\n",
              "      <th>dataset_name</th>\n",
              "      <th>epochs</th>\n",
              "      <th>batch_size</th>\n",
              "      <th>num_train_samples</th>\n",
              "      <th>num_test_samples</th>\n",
              "      <th>total_train_time</th>\n",
              "      <th>time_per_epoch</th>\n",
              "      <th>model</th>\n",
              "    </tr>\n",
              "  </thead>\n",
              "  <tbody>\n",
              "    <tr>\n",
              "      <th>0</th>\n",
              "      <td>Google Colab (K80 GPU)</td>\n",
              "      <td>cifar10</td>\n",
              "      <td>10</td>\n",
              "      <td>32</td>\n",
              "      <td>50016</td>\n",
              "      <td>10016</td>\n",
              "      <td>166.911</td>\n",
              "      <td>16.691</td>\n",
              "      <td>TinyVGG</td>\n",
              "    </tr>\n",
              "  </tbody>\n",
              "</table>\n",
              "</div>"
            ],
            "text/plain": [
              "                   device dataset_name  ...  time_per_epoch    model\n",
              "0  Google Colab (K80 GPU)      cifar10  ...          16.691  TinyVGG\n",
              "\n",
              "[1 rows x 9 columns]"
            ]
          },
          "metadata": {},
          "execution_count": 11
        }
      ]
    },
    {
      "cell_type": "code",
      "metadata": {
        "id": "9Z4oPZYi8y1Y"
      },
      "source": [
        "# Write CSV to file\n",
        "if not os.path.exists(\"results/\"):\n",
        "  os.makedirs(\"results/\")\n",
        "\n",
        "results_df.to_csv(f\"results/{DEVICE}_{DATASET_NAME}.csv\")"
      ],
      "id": "9Z4oPZYi8y1Y",
      "execution_count": 12,
      "outputs": []
    }
  ]
}